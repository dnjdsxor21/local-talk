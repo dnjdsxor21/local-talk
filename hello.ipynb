{
 "cells": [
  {
   "cell_type": "code",
   "execution_count": 3,
   "metadata": {},
   "outputs": [],
   "source": [
    "from dotenv import dotenv_values\n",
    "from supabase_db import create_client, Client\n",
    "import os\n",
    "config = dotenv_values('.env')\n",
    "url: str = config['SUPABASE_URL']\n",
    "key: str = config[\"SUPABASE_KEY\"]\n",
    "supabase: Client = create_client(url, key)"
   ]
  },
  {
   "cell_type": "code",
   "execution_count": 4,
   "metadata": {},
   "outputs": [],
   "source": [
    "TABLE_NAME = 'seoultalk'\n",
    "ROW1 = \"text\"\n",
    "ROW2 = \"location\"\n",
    "ROW3 = \"user_name\"\n",
    "\n",
    "def fetch_table(location_name):\n",
    "    # location_name = unicodedata.normalize(\"NFC\", location_name)\n",
    "    # print(location_name)\n",
    "    response = supabase.table(TABLE_NAME).select('*').eq(ROW2, location_name).execute()\n",
    "    # print(len(response.data))\n",
    "    return response.data\n",
    "\n",
    "def insert_table(text:str, location:float, user_name:float):\n",
    "    data, count = supabase.table(TABLE_NAME).insert({\n",
    "        ROW1: text, ROW2:location, ROW3:user_name\n",
    "        }).execute()\n",
    "    return data"
   ]
  },
  {
   "cell_type": "code",
   "execution_count": 5,
   "metadata": {},
   "outputs": [
    {
     "name": "stderr",
     "output_type": "stream",
     "text": [
      "2024-05-03 00:32:18,894:INFO - HTTP Request: POST https://othbdjewvixuktarglrn.supabase.co/rest/v1/seoultalk \"HTTP/1.1 201 Created\"\n"
     ]
    },
    {
     "data": {
      "text/plain": [
       "('data',\n",
       " [{'id': 1,\n",
       "   'created_at': '2024-05-02T15:32:18.582618+00:00',\n",
       "   'text': 'hello',\n",
       "   'location': 'Wangsimni',\n",
       "   'user_name': 'ASOIJ12'}])"
      ]
     },
     "execution_count": 5,
     "metadata": {},
     "output_type": "execute_result"
    }
   ],
   "source": [
    "insert_table('hello', 'Wangsimni', 'ASOIJ12')"
   ]
  },
  {
   "cell_type": "code",
   "execution_count": 6,
   "metadata": {},
   "outputs": [
    {
     "name": "stderr",
     "output_type": "stream",
     "text": [
      "2024-05-03 00:32:37,635:INFO - HTTP Request: GET https://othbdjewvixuktarglrn.supabase.co/rest/v1/seoultalk?select=%2A&location=eq.Wangsimni \"HTTP/1.1 200 OK\"\n"
     ]
    },
    {
     "data": {
      "text/plain": [
       "[{'id': 1,\n",
       "  'created_at': '2024-05-02T15:32:18.582618+00:00',\n",
       "  'text': 'hello',\n",
       "  'location': 'Wangsimni',\n",
       "  'user_name': 'ASOIJ12'}]"
      ]
     },
     "execution_count": 6,
     "metadata": {},
     "output_type": "execute_result"
    }
   ],
   "source": [
    "data = fetch_table('Wangsimni')\n",
    "data"
   ]
  },
  {
   "cell_type": "code",
   "execution_count": 10,
   "metadata": {},
   "outputs": [],
   "source": [
    "import pickle\n",
    "count = 1\n",
    "with open('static/db/count.pkl','wb') as f:\n",
    "    pickle.dump(count, f)"
   ]
  },
  {
   "cell_type": "code",
   "execution_count": 11,
   "metadata": {},
   "outputs": [
    {
     "name": "stdout",
     "output_type": "stream",
     "text": [
      "1\n",
      "<class 'int'>\n"
     ]
    }
   ],
   "source": [
    "with open('static/db/count.pkl', 'rb') as f:\n",
    "    count = pickle.load(f)\n",
    "print(count)\n",
    "print(type(count))"
   ]
  }
 ],
 "metadata": {
  "kernelspec": {
   "display_name": "fastapi",
   "language": "python",
   "name": "python3"
  },
  "language_info": {
   "codemirror_mode": {
    "name": "ipython",
    "version": 3
   },
   "file_extension": ".py",
   "mimetype": "text/x-python",
   "name": "python",
   "nbconvert_exporter": "python",
   "pygments_lexer": "ipython3",
   "version": "3.8.10"
  }
 },
 "nbformat": 4,
 "nbformat_minor": 2
}
